{
 "cells": [
  {
   "cell_type": "code",
   "execution_count": 147,
   "metadata": {},
   "outputs": [],
   "source": [
    "import numpy as np\n",
    "import matplotlib.pyplot as plt\n",
    "import pandas as pd\n",
    "from matplotlib.image import imread\n",
    "from skimage.transform import resize"
   ]
  },
  {
   "cell_type": "code",
   "execution_count": 148,
   "metadata": {},
   "outputs": [],
   "source": [
    "def saver(img):\n",
    "    left = -1\n",
    "    right = -1\n",
    "    top = -1\n",
    "    down = -1\n",
    "    for j in range(0,120):\n",
    "        for i in range(0,90):\n",
    "            if img[i,j,1] < 0.5:\n",
    "                right = j\n",
    "                quit\n",
    "    for j in range(119,0,-1):\n",
    "        for i in range(0,90):\n",
    "            if img[i,j,1] < 0.5:\n",
    "                left = j\n",
    "                quit\n",
    "    for i in range(0,90):\n",
    "        for j in range(0,120):\n",
    "            if img[i,j,1] < 0.5:\n",
    "                down = i\n",
    "                quit\n",
    "    for i in range(89,0,-1):\n",
    "        for j in range(0,120):\n",
    "            if img[i,j,1] < 0.5:\n",
    "                top = i\n",
    "                quit\n",
    "    crop = img[top:down,left:right]\n",
    "    crop = resize(crop,(70,80))\n",
    "    return crop\n",
    "    "
   ]
  },
  {
   "cell_type": "code",
   "execution_count": null,
   "metadata": {},
   "outputs": [],
   "source": []
  },
  {
   "cell_type": "code",
   "execution_count": 149,
   "metadata": {},
   "outputs": [],
   "source": [
    "dataset = pd.read_csv('new.csv')\n",
    "for i in range(500,3410):\n",
    "    loc = str(dataset.iloc[i,0])\n",
    "    img = imread(loc)\n",
    "    img = resize(img,(90,120))\n",
    "    crop = saver(img)\n",
    "    loc = loc.replace('Img/','nimg/')\n",
    "    plt.imsave(loc,crop)"
   ]
  }
 ],
 "metadata": {
  "interpreter": {
   "hash": "0115c7a1a50ac49559b016aaddc8be786ead5440bb14e3fcaa9ea4e91a1e6a87"
  },
  "kernelspec": {
   "display_name": "Python 3.8.7 64-bit",
   "name": "python3"
  },
  "language_info": {
   "codemirror_mode": {
    "name": "ipython",
    "version": 3
   },
   "file_extension": ".py",
   "mimetype": "text/x-python",
   "name": "python",
   "nbconvert_exporter": "python",
   "pygments_lexer": "ipython3",
   "version": "3.8.7"
  },
  "orig_nbformat": 4
 },
 "nbformat": 4,
 "nbformat_minor": 2
}
