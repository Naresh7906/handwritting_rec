{
 "cells": [
  {
   "cell_type": "markdown",
   "metadata": {},
   "source": [
    "# Importing libraries"
   ]
  },
  {
   "cell_type": "code",
   "execution_count": 13,
   "metadata": {},
   "outputs": [],
   "source": [
    "import numpy as np\n",
    "import matplotlib.pyplot as plt\n",
    "import pandas as pd\n",
    "from matplotlib.image import imread"
   ]
  },
  {
   "cell_type": "markdown",
   "metadata": {},
   "source": [
    "# Importing Dataset"
   ]
  },
  {
   "cell_type": "code",
   "execution_count": 14,
   "metadata": {},
   "outputs": [
    {
     "name": "stdout",
     "output_type": "stream",
     "text": [
      "                   image label\n",
      "0     Img/img001-001.png     0\n",
      "1     Img/img001-002.png     0\n",
      "2     Img/img001-003.png     0\n",
      "3     Img/img001-004.png     0\n",
      "4     Img/img001-005.png     0\n",
      "...                  ...   ...\n",
      "3405  Img/img062-051.png     z\n",
      "3406  Img/img062-052.png     z\n",
      "3407  Img/img062-053.png     z\n",
      "3408  Img/img062-054.png     z\n",
      "3409  Img/img062-055.png     z\n",
      "\n",
      "[3410 rows x 2 columns]\n"
     ]
    }
   ],
   "source": [
    "dataset = pd.read_csv('english.csv')\n",
    "print(dataset)"
   ]
  },
  {
   "cell_type": "markdown",
   "metadata": {},
   "source": [
    "# Importing images from dataset\n",
    "## resizing image to 18x24 pixels"
   ]
  },
  {
   "cell_type": "code",
   "execution_count": 15,
   "metadata": {},
   "outputs": [],
   "source": [
    "from skimage.transform import resize\n",
    "x,y = [],[]\n",
    "for i in range(0,550):\n",
    "    img = imread(dataset.iloc[i,0])\n",
    "    img = resize(img,(18,24))\n",
    "    x.append(img)\n",
    "    y.append(dataset.iloc[i,1])"
   ]
  },
  {
   "cell_type": "markdown",
   "metadata": {},
   "source": [
    "## Converting x,y to numpy arrays"
   ]
  },
  {
   "cell_type": "code",
   "execution_count": 16,
   "metadata": {},
   "outputs": [],
   "source": [
    "x = np.array(x)\n",
    "y = np.array(y)"
   ]
  },
  {
   "cell_type": "markdown",
   "metadata": {},
   "source": [
    "## Splitting data into train and test sets"
   ]
  },
  {
   "cell_type": "code",
   "execution_count": 17,
   "metadata": {},
   "outputs": [],
   "source": [
    "from sklearn.model_selection import train_test_split\n",
    "x_train,x_test,y_train,y_test = train_test_split(x,y,test_size=0.2,random_state=0)"
   ]
  },
  {
   "cell_type": "markdown",
   "metadata": {},
   "source": [
    "## visualising first 4 images from training set"
   ]
  },
  {
   "cell_type": "code",
   "execution_count": 19,
   "metadata": {},
   "outputs": [
    {
     "data": {
      "image/png": "[encoded data removed]",
      "text/plain": [
       "<Figure size 720x216 with 4 Axes>"
      ]
     },
     "metadata": {
      "needs_background": "light"
     },
     "output_type": "display_data"
    }
   ],
   "source": [
    "_, axes = plt.subplots(nrows=1, ncols=4, figsize=(10, 3))\n",
    "for ax, image, label in zip(axes, x_train, y_train):\n",
    "    ax.set_axis_off()\n",
    "    ax.imshow(image, cmap=plt.cm.gray_r, interpolation='nearest')"
   ]
  },
  {
   "cell_type": "markdown",
   "metadata": {},
   "source": [
    "## reshaping the arrays to train (flatining images)"
   ]
  },
  {
   "cell_type": "code",
   "execution_count": 20,
   "metadata": {},
   "outputs": [],
   "source": [
    "x_train = x_train.reshape((len(x_train),-1))\n",
    "x_test = x_test.reshape((len(x_test),-1))"
   ]
  },
  {
   "cell_type": "markdown",
   "metadata": {},
   "source": [
    "# Training and testing our model"
   ]
  },
  {
   "cell_type": "code",
   "execution_count": 21,
   "metadata": {},
   "outputs": [
    {
     "data": {
      "text/plain": [
       "SVC(C=7, gamma=0.04)"
      ]
     },
     "execution_count": 21,
     "metadata": {},
     "output_type": "execute_result"
    }
   ],
   "source": [
    "from sklearn.svm import SVC\n",
    "classifier = SVC(gamma=0.04,C=7)\n",
    "classifier.fit(x_train,y_train)"
   ]
  },
  {
   "cell_type": "code",
   "execution_count": 22,
   "metadata": {},
   "outputs": [],
   "source": [
    "y_pred = classifier.predict(x_test)"
   ]
  },
  {
   "cell_type": "markdown",
   "metadata": {},
   "source": [
    "## Checking accuracy and confusion matrix for our model "
   ]
  },
  {
   "cell_type": "code",
   "execution_count": 23,
   "metadata": {},
   "outputs": [
    {
     "name": "stdout",
     "output_type": "stream",
     "text": [
      "[[ 7  0  0  0  0  0  1  0  0  0]\n",
      " [ 0 12  1  0  0  0  0  0  0  0]\n",
      " [ 1  0  8  0  0  0  0  0  0  0]\n",
      " [ 0  0  0  9  0  0  0  1  0  1]\n",
      " [ 0  0  1  0  7  1  0  0  0  1]\n",
      " [ 0  0  0  0  0  7  0  0  0  2]\n",
      " [ 0  0  0  0  4  2  3  0  0  0]\n",
      " [ 0  2  0  0  0  0  0  9  0  1]\n",
      " [ 0  0  1  1  0  0  0  0 13  0]\n",
      " [ 0  1  0  1  3  1  0  1  1  6]]\n",
      "0.7363636363636363\n"
     ]
    }
   ],
   "source": [
    "from sklearn.metrics import confusion_matrix,accuracy_score,classification_report\n",
    "cm = confusion_matrix(y_test,y_pred,labels=classifier.classes_)\n",
    "print(cm)\n",
    "print(accuracy_score(y_test,y_pred))"
   ]
  },
  {
   "cell_type": "code",
   "execution_count": 24,
   "metadata": {},
   "outputs": [
    {
     "name": "stdout",
     "output_type": "stream",
     "text": [
      "              precision    recall  f1-score   support\n",
      "\n",
      "           0       0.88      0.88      0.88         8\n",
      "           1       0.80      0.92      0.86        13\n",
      "           2       0.73      0.89      0.80         9\n",
      "           3       0.82      0.82      0.82        11\n",
      "           4       0.50      0.70      0.58        10\n",
      "           5       0.64      0.78      0.70         9\n",
      "           6       0.75      0.33      0.46         9\n",
      "           7       0.82      0.75      0.78        12\n",
      "           8       0.93      0.87      0.90        15\n",
      "           9       0.55      0.43      0.48        14\n",
      "\n",
      "    accuracy                           0.74       110\n",
      "   macro avg       0.74      0.74      0.73       110\n",
      "weighted avg       0.74      0.74      0.73       110\n",
      "\n"
     ]
    }
   ],
   "source": [
    "print(classification_report(y_test,y_pred))"
   ]
  }
 ],
 "metadata": {
  "interpreter": {
   "hash": "0115c7a1a50ac49559b016aaddc8be786ead5440bb14e3fcaa9ea4e91a1e6a87"
  },
  "kernelspec": {
   "display_name": "Python 3.8.7 64-bit",
   "name": "python3"
  },
  "language_info": {
   "codemirror_mode": {
    "name": "ipython",
    "version": 3
   },
   "file_extension": ".py",
   "mimetype": "text/x-python",
   "name": "python",
   "nbconvert_exporter": "python",
   "pygments_lexer": "ipython3",
   "version": "3.8.7"
  },
  "orig_nbformat": 4
 },
 "nbformat": 4,
 "nbformat_minor": 2
}
