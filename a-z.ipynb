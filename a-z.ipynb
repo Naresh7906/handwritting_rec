{
 "cells": [
  {
   "cell_type": "markdown",
   "metadata": {},
   "source": [
    "# Importing libraries"
   ]
  },
  {
   "cell_type": "code",
   "execution_count": 60,
   "metadata": {},
   "outputs": [],
   "source": [
    "import numpy as np\n",
    "import matplotlib.pyplot as plt\n",
    "import pandas as pd\n",
    "from matplotlib.image import imread"
   ]
  },
  {
   "cell_type": "markdown",
   "metadata": {},
   "source": [
    "# Importing Dataset"
   ]
  },
  {
   "cell_type": "code",
   "execution_count": 61,
   "metadata": {},
   "outputs": [
    {
     "name": "stdout",
     "output_type": "stream",
     "text": [
      "                   image label\n",
      "0     Img/img001-001.png     0\n",
      "1     Img/img001-002.png     0\n",
      "2     Img/img001-003.png     0\n",
      "3     Img/img001-004.png     0\n",
      "4     Img/img001-005.png     0\n",
      "...                  ...   ...\n",
      "3405  Img/img062-051.png     z\n",
      "3406  Img/img062-052.png     z\n",
      "3407  Img/img062-053.png     z\n",
      "3408  Img/img062-054.png     z\n",
      "3409  Img/img062-055.png     z\n",
      "\n",
      "[3410 rows x 2 columns]\n"
     ]
    }
   ],
   "source": [
    "dataset = pd.read_csv('english.csv')\n",
    "print(dataset)"
   ]
  },
  {
   "cell_type": "markdown",
   "metadata": {},
   "source": [
    "# Importing images from dataset\n",
    "## resizing image to 18x24 pixels"
   ]
  },
  {
   "cell_type": "code",
   "execution_count": null,
   "metadata": {},
   "outputs": [],
   "source": [
    "from skimage.transform import resize\n",
    "x,y = [],[]\n",
    "for i in range(1980,3410):\n",
    "    img = imread(dataset.iloc[i,0])\n",
    "    img = resize(img,(18,24))\n",
    "    x.append(img)\n",
    "    y.append(dataset.iloc[i,1])"
   ]
  },
  {
   "cell_type": "markdown",
   "metadata": {},
   "source": [
    "## Converting x,y to numpy arrays"
   ]
  },
  {
   "cell_type": "code",
   "execution_count": null,
   "metadata": {},
   "outputs": [],
   "source": [
    "x = np.array(x)\n",
    "y = np.array(y)"
   ]
  },
  {
   "cell_type": "markdown",
   "metadata": {},
   "source": [
    "## Splitting data into train and test sets"
   ]
  },
  {
   "cell_type": "code",
   "execution_count": null,
   "metadata": {},
   "outputs": [],
   "source": [
    "from sklearn.model_selection import train_test_split\n",
    "x_train,x_test,y_train,y_test = train_test_split(x,y,test_size=0.2,random_state=0)"
   ]
  },
  {
   "cell_type": "markdown",
   "metadata": {},
   "source": [
    "## visualising first 4 images from training set"
   ]
  },
  {
   "cell_type": "code",
   "execution_count": null,
   "metadata": {},
   "outputs": [
    {
     "data": {
      "image/png": "[encoded data removed]",
      "text/plain": [
       "<Figure size 720x216 with 4 Axes>"
      ]
     },
     "metadata": {
      "needs_background": "light"
     },
     "output_type": "display_data"
    }
   ],
   "source": [
    "_, axes = plt.subplots(nrows=1, ncols=4, figsize=(10, 3))\n",
    "for ax, image, label in zip(axes, x_train, y_train):\n",
    "    ax.set_axis_off()\n",
    "    ax.imshow(image, cmap=plt.cm.gray_r, interpolation='nearest')"
   ]
  },
  {
   "cell_type": "markdown",
   "metadata": {},
   "source": [
    "## reshaping the arrays to train (flatining images)"
   ]
  },
  {
   "cell_type": "code",
   "execution_count": null,
   "metadata": {},
   "outputs": [],
   "source": [
    "x_train = x_train.reshape((len(x_train),-1))\n",
    "x_test = x_test.reshape((len(x_test),-1))"
   ]
  },
  {
   "cell_type": "markdown",
   "metadata": {},
   "source": [
    "# Training and testing our model"
   ]
  },
  {
   "cell_type": "code",
   "execution_count": 99,
   "metadata": {},
   "outputs": [
    {
     "data": {
      "text/plain": [
       "SVC(C=7, gamma=0.06)"
      ]
     },
     "execution_count": 99,
     "metadata": {},
     "output_type": "execute_result"
    }
   ],
   "source": [
    "from sklearn.svm import SVC\n",
    "classifier = SVC(gamma=0.06,C=7)\n",
    "classifier.fit(x_train,y_train)"
   ]
  },
  {
   "cell_type": "code",
   "execution_count": 100,
   "metadata": {},
   "outputs": [],
   "source": [
    "y_pred = classifier.predict(x_test)"
   ]
  },
  {
   "cell_type": "markdown",
   "metadata": {},
   "source": [
    "## Checking accuracy and confusion matrix for our model "
   ]
  },
  {
   "cell_type": "code",
   "execution_count": 101,
   "metadata": {},
   "outputs": [
    {
     "name": "stdout",
     "output_type": "stream",
     "text": [
      "0.6398601398601399\n"
     ]
    }
   ],
   "source": [
    "from sklearn.metrics import confusion_matrix,accuracy_score,classification_report\n",
    "#cm = confusion_matrix(y_test,y_pred,labels=classifier.classes_)\n",
    "#print(cm)\n",
    "print(accuracy_score(y_test,y_pred))"
   ]
  },
  {
   "cell_type": "code",
   "execution_count": 102,
   "metadata": {},
   "outputs": [
    {
     "name": "stdout",
     "output_type": "stream",
     "text": [
      "              precision    recall  f1-score   support\n",
      "\n",
      "           a       0.71      0.60      0.65        20\n",
      "           b       0.67      0.89      0.76         9\n",
      "           c       0.58      0.78      0.67         9\n",
      "           d       0.55      0.60      0.57        10\n",
      "           e       0.54      0.64      0.58        11\n",
      "           f       0.91      0.83      0.87        12\n",
      "           g       0.33      0.62      0.43         8\n",
      "           h       0.64      0.50      0.56        14\n",
      "           i       0.86      0.75      0.80        16\n",
      "           j       1.00      0.82      0.90        11\n",
      "           k       0.78      0.64      0.70        11\n",
      "           l       0.71      0.83      0.77        12\n",
      "           m       0.50      0.60      0.55         5\n",
      "           n       0.54      0.78      0.64         9\n",
      "           o       0.67      0.62      0.64        13\n",
      "           p       0.22      1.00      0.36         2\n",
      "           q       0.57      0.44      0.50         9\n",
      "           r       0.50      0.36      0.42        11\n",
      "           s       0.50      0.17      0.25        12\n",
      "           t       0.78      0.50      0.61        14\n",
      "           u       0.54      0.70      0.61        10\n",
      "           v       0.54      0.78      0.64         9\n",
      "           w       0.92      0.80      0.86        15\n",
      "           x       0.69      0.75      0.72        12\n",
      "           y       0.70      0.70      0.70        10\n",
      "           z       0.50      0.33      0.40        12\n",
      "\n",
      "    accuracy                           0.64       286\n",
      "   macro avg       0.63      0.65      0.62       286\n",
      "weighted avg       0.67      0.64      0.64       286\n",
      "\n"
     ]
    }
   ],
   "source": [
    "print(classification_report(y_test,y_pred))"
   ]
  }
 ],
 "metadata": {
  "interpreter": {
   "hash": "0115c7a1a50ac49559b016aaddc8be786ead5440bb14e3fcaa9ea4e91a1e6a87"
  },
  "kernelspec": {
   "display_name": "Python 3.8.7 64-bit",
   "name": "python3"
  },
  "language_info": {
   "codemirror_mode": {
    "name": "ipython",
    "version": 3
   },
   "file_extension": ".py",
   "mimetype": "text/x-python",
   "name": "python",
   "nbconvert_exporter": "python",
   "pygments_lexer": "ipython3",
   "version": "3.8.7"
  },
  "orig_nbformat": 4
 },
 "nbformat": 4,
 "nbformat_minor": 2
}
