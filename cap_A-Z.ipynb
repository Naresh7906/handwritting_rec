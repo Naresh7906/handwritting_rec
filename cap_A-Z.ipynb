{
 "cells": [
  {
   "cell_type": "markdown",
   "metadata": {},
   "source": [
    "# Importing libraries"
   ]
  },
  {
   "cell_type": "code",
   "execution_count": 40,
   "metadata": {},
   "outputs": [],
   "source": [
    "import numpy as np\n",
    "import matplotlib.pyplot as plt\n",
    "import pandas as pd\n",
    "from matplotlib.image import imread"
   ]
  },
  {
   "cell_type": "markdown",
   "metadata": {},
   "source": [
    "# Importing Dataset"
   ]
  },
  {
   "cell_type": "code",
   "execution_count": 41,
   "metadata": {},
   "outputs": [
    {
     "name": "stdout",
     "output_type": "stream",
     "text": [
      "                    image label\n",
      "0     nimg/img001-001.png     0\n",
      "1     nimg/img001-002.png     0\n",
      "2     nimg/img001-003.png     0\n",
      "3     nimg/img001-004.png     0\n",
      "4     nimg/img001-005.png     0\n",
      "...                   ...   ...\n",
      "3405  nimg/img062-051.png     z\n",
      "3406  nimg/img062-052.png     z\n",
      "3407  nimg/img062-053.png     z\n",
      "3408  nimg/img062-054.png     z\n",
      "3409  nimg/img062-055.png     z\n",
      "\n",
      "[3410 rows x 2 columns]\n"
     ]
    }
   ],
   "source": [
    "dataset = pd.read_csv('out.csv')\n",
    "print(dataset)"
   ]
  },
  {
   "cell_type": "markdown",
   "metadata": {},
   "source": [
    "# Importing images from dataset"
   ]
  },
  {
   "cell_type": "code",
   "execution_count": 42,
   "metadata": {},
   "outputs": [],
   "source": [
    "from skimage.transform import resize\n",
    "x,y = [],[]\n",
    "for i in range(550,1980):\n",
    "    img = imread(dataset.iloc[i,0])\n",
    "    x.append(img)\n",
    "    y.append(dataset.iloc[i,1])"
   ]
  },
  {
   "cell_type": "markdown",
   "metadata": {},
   "source": [
    "## Converting x,y to numpy arrays"
   ]
  },
  {
   "cell_type": "code",
   "execution_count": 43,
   "metadata": {},
   "outputs": [],
   "source": [
    "x = np.array(x)\n",
    "y = np.array(y)"
   ]
  },
  {
   "cell_type": "markdown",
   "metadata": {},
   "source": [
    "## Splitting data into train and test sets"
   ]
  },
  {
   "cell_type": "code",
   "execution_count": 44,
   "metadata": {},
   "outputs": [],
   "source": [
    "from sklearn.model_selection import train_test_split\n",
    "x_train,x_test,y_train,y_test = train_test_split(x,y,test_size=0.2,random_state=0)"
   ]
  },
  {
   "cell_type": "markdown",
   "metadata": {},
   "source": [
    "## visualising first 4 images from training set"
   ]
  },
  {
   "cell_type": "code",
   "execution_count": 45,
   "metadata": {},
   "outputs": [
    {
     "data": {
      "image/png": "[encoded data removed]",
      "text/plain": [
       "<Figure size 720x216 with 4 Axes>"
      ]
     },
     "metadata": {
      "needs_background": "light"
     },
     "output_type": "display_data"
    }
   ],
   "source": [
    "_, axes = plt.subplots(nrows=1, ncols=4, figsize=(10, 3))\n",
    "for ax, image, label in zip(axes, x_train, y_train):\n",
    "    ax.set_axis_off()\n",
    "    ax.imshow(image, cmap=plt.cm.gray_r, interpolation='nearest')"
   ]
  },
  {
   "cell_type": "markdown",
   "metadata": {},
   "source": [
    "## reshaping the arrays to train (flatining images)"
   ]
  },
  {
   "cell_type": "code",
   "execution_count": 46,
   "metadata": {},
   "outputs": [],
   "source": [
    "x_train = x_train.reshape((len(x_train),-1))\n",
    "x_test = x_test.reshape((len(x_test),-1))"
   ]
  },
  {
   "cell_type": "markdown",
   "metadata": {},
   "source": [
    "# Training and testing our model"
   ]
  },
  {
   "cell_type": "code",
   "execution_count": 47,
   "metadata": {},
   "outputs": [
    {
     "data": {
      "text/plain": [
       "SVC(C=10, gamma=0.0001)"
      ]
     },
     "execution_count": 47,
     "metadata": {},
     "output_type": "execute_result"
    }
   ],
   "source": [
    "from sklearn.svm import SVC\n",
    "classifier = SVC(gamma=0.0001,C=10)\n",
    "classifier.fit(x_train,y_train)"
   ]
  },
  {
   "cell_type": "code",
   "execution_count": 48,
   "metadata": {},
   "outputs": [],
   "source": [
    "y_pred = classifier.predict(x_test)"
   ]
  },
  {
   "cell_type": "markdown",
   "metadata": {},
   "source": [
    "## Checking accuracy and confusion matrix for our model "
   ]
  },
  {
   "cell_type": "code",
   "execution_count": 49,
   "metadata": {},
   "outputs": [
    {
     "name": "stdout",
     "output_type": "stream",
     "text": [
      "0.9475524475524476\n"
     ]
    }
   ],
   "source": [
    "from sklearn.metrics import accuracy_score,classification_report\n",
    "print(accuracy_score(y_test,y_pred))"
   ]
  },
  {
   "cell_type": "code",
   "execution_count": 50,
   "metadata": {},
   "outputs": [
    {
     "name": "stdout",
     "output_type": "stream",
     "text": [
      "              precision    recall  f1-score   support\n",
      "\n",
      "           A       1.00      1.00      1.00        20\n",
      "           B       0.82      1.00      0.90         9\n",
      "           C       1.00      1.00      1.00         9\n",
      "           D       0.91      1.00      0.95        10\n",
      "           E       1.00      1.00      1.00        11\n",
      "           F       0.92      1.00      0.96        12\n",
      "           G       1.00      0.88      0.93         8\n",
      "           H       0.88      1.00      0.93        14\n",
      "           I       1.00      0.88      0.93        16\n",
      "           J       0.92      1.00      0.96        11\n",
      "           K       1.00      0.91      0.95        11\n",
      "           L       0.92      0.92      0.92        12\n",
      "           M       1.00      1.00      1.00         5\n",
      "           N       1.00      1.00      1.00         9\n",
      "           O       1.00      1.00      1.00        13\n",
      "           P       1.00      1.00      1.00         2\n",
      "           Q       0.88      0.78      0.82         9\n",
      "           R       1.00      0.91      0.95        11\n",
      "           S       0.92      0.92      0.92        12\n",
      "           T       1.00      0.93      0.96        14\n",
      "           U       1.00      1.00      1.00        10\n",
      "           V       0.90      1.00      0.95         9\n",
      "           W       1.00      0.87      0.93        15\n",
      "           X       0.92      0.92      0.92        12\n",
      "           Y       0.90      0.90      0.90        10\n",
      "           Z       0.85      0.92      0.88        12\n",
      "\n",
      "    accuracy                           0.95       286\n",
      "   macro avg       0.95      0.95      0.95       286\n",
      "weighted avg       0.95      0.95      0.95       286\n",
      "\n"
     ]
    }
   ],
   "source": [
    "print(classification_report(y_test,y_pred))"
   ]
  },
  {
   "cell_type": "code",
   "execution_count": null,
   "metadata": {},
   "outputs": [],
   "source": []
  }
 ],
 "metadata": {
  "interpreter": {
   "hash": "0115c7a1a50ac49559b016aaddc8be786ead5440bb14e3fcaa9ea4e91a1e6a87"
  },
  "kernelspec": {
   "display_name": "Python 3.8.7 64-bit",
   "name": "python3"
  },
  "language_info": {
   "codemirror_mode": {
    "name": "ipython",
    "version": 3
   },
   "file_extension": ".py",
   "mimetype": "text/x-python",
   "name": "python",
   "nbconvert_exporter": "python",
   "pygments_lexer": "ipython3",
   "version": "3.8.7"
  },
  "orig_nbformat": 4
 },
 "nbformat": 4,
 "nbformat_minor": 2
}
